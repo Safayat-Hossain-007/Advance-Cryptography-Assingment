{
 "cells": [
  {
   "cell_type": "code",
   "execution_count": 2,
   "id": "f9d9381b-f572-43f3-98af-6e3d1d6ff077",
   "metadata": {},
   "outputs": [
    {
     "name": "stdout",
     "output_type": "stream",
     "text": [
      "Output saved at: C:\\Users\\pc\\Desktop\\DeepLearning\\Assingment\\PrimeNumberOutput.csv\n"
     ]
    }
   ],
   "source": [
    "import csv\n",
    "import os\n",
    "\n",
    "# File paths\n",
    "input_path = r\"C:\\Users\\pc\\Desktop\\DeepLearning\\Assingment\\PrimeNumberInput.csv\"\n",
    "output_path = r\"C:\\Users\\pc\\Desktop\\DeepLearning\\Assingment\\PrimeNumberOutput.csv\"\n",
    "\n",
    "# Prime check function\n",
    "def is_prime(num):\n",
    "    if num < 2:\n",
    "        return False\n",
    "    if num == 2:\n",
    "        return True\n",
    "    if num % 2 == 0:\n",
    "        return False\n",
    "    for i in range(3, int(num**0.5) + 1, 2):\n",
    "        if num % i == 0:\n",
    "            return False\n",
    "    return True\n",
    "\n",
    "# Read numbers from input file\n",
    "with open(input_path, 'r') as infile:\n",
    "    numbers = [int(line.strip()) for line in infile if line.strip().isdigit()]\n",
    "\n",
    "# Write output CSV\n",
    "with open(output_path, 'w', newline='') as outfile:\n",
    "    writer = csv.writer(outfile)\n",
    "    writer.writerow(['number', 'prime numbers'])  # header\n",
    "\n",
    "    for num in numbers:\n",
    "        primes = [str(n) for n in range(1, num + 1) if is_prime(n)]\n",
    "        primes_str = ' '.join(primes)\n",
    "        writer.writerow([num, primes_str])\n",
    "\n",
    "print(f\"Output saved at: {output_path}\")\n"
   ]
  },
  {
   "cell_type": "code",
   "execution_count": null,
   "id": "6e80aec9-31da-46cd-afdf-15de390c1d85",
   "metadata": {},
   "outputs": [],
   "source": []
  }
 ],
 "metadata": {
  "kernelspec": {
   "display_name": "Python 3 (ipykernel)",
   "language": "python",
   "name": "python3"
  },
  "language_info": {
   "codemirror_mode": {
    "name": "ipython",
    "version": 3
   },
   "file_extension": ".py",
   "mimetype": "text/x-python",
   "name": "python",
   "nbconvert_exporter": "python",
   "pygments_lexer": "ipython3",
   "version": "3.8.20"
  }
 },
 "nbformat": 4,
 "nbformat_minor": 5
}
